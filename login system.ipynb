{
 "cells": [
  {
   "cell_type": "code",
   "execution_count": null,
   "id": "36e833c5",
   "metadata": {},
   "outputs": [
    {
     "name": "stdout",
     "output_type": "stream",
     "text": [
      "-----WELCOME TO EMPLOYEE SYSTEM-----\n",
      "Enter Log In ID: 101\n",
      "Enter Password: akash\n",
      "Enter the id again: 101\n",
      "1.View Details\n",
      "2.View All Employees\n",
      "3.Exit\n",
      "Enter your choice: 2\n",
      "Enter designation: all\n",
      "101,akash,23-08-2020,sde1,80,000\n",
      "\n",
      "102,aniket,24-08-2020,sde2,90,000\n",
      "\n",
      "103,ram,12-09-2020,sde1,80,000\n",
      "\n",
      "104,rajat,24-09-2019,sde2,90,000\n",
      "\n",
      "1.View Details\n",
      "2.View All Employees\n",
      "3.Exit\n",
      "Enter your choice: 2\n",
      "Enter designation: sde1\n",
      "101,akash,23-08-2020,sde1,80,000\n",
      "\n",
      "103,ram,12-09-2020,sde1,80,000\n",
      "\n",
      "1.View Details\n",
      "2.View All Employees\n",
      "3.Exit\n"
     ]
    }
   ],
   "source": [
    "import sys\n",
    "print(\"-----WELCOME TO EMPLOYEE SYSTEM-----\")\n",
    "id = input(\"Enter Log In ID: \")\n",
    "pwd = input(\"Enter Password: \")\n",
    "file = open(\"login.txt\", \"r\")\n",
    "a = file.readlines()\n",
    "for i in a:\n",
    "    b = i.split()\n",
    "    if id == b[0] and pwd == b[1]:\n",
    "        if id == 'admin':\n",
    "            import admin\n",
    "            break\n",
    "        else:\n",
    "            import employee\n",
    "            break\n",
    "else:\n",
    "    print(\"INVALID ID OR PASSWORD!\")\n",
    "    sys.exit()"
   ]
  },
  {
   "cell_type": "code",
   "execution_count": null,
   "id": "a60ca6c4",
   "metadata": {},
   "outputs": [],
   "source": []
  }
 ],
 "metadata": {
  "kernelspec": {
   "display_name": "Python 3",
   "language": "python",
   "name": "python3"
  },
  "language_info": {
   "codemirror_mode": {
    "name": "ipython",
    "version": 3
   },
   "file_extension": ".py",
   "mimetype": "text/x-python",
   "name": "python",
   "nbconvert_exporter": "python",
   "pygments_lexer": "ipython3",
   "version": "3.8.8"
  }
 },
 "nbformat": 4,
 "nbformat_minor": 5
}
